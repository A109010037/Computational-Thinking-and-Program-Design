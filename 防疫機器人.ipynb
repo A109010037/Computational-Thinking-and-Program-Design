{
  "nbformat": 4,
  "nbformat_minor": 0,
  "metadata": {
    "colab": {
      "name": "防疫機器人.ipynb",
      "provenance": [],
      "collapsed_sections": [],
      "authorship_tag": "ABX9TyO5FHt1QyURpSs/CwLEWtaO",
      "include_colab_link": true
    },
    "kernelspec": {
      "name": "python3",
      "display_name": "Python 3"
    },
    "language_info": {
      "name": "python"
    }
  },
  "cells": [
    {
      "cell_type": "markdown",
      "metadata": {
        "id": "view-in-github",
        "colab_type": "text"
      },
      "source": [
        "<a href=\"https://colab.research.google.com/github/A109010037/Computational-Thinking-and-Program-Design/blob/main/%E9%98%B2%E7%96%AB%E6%A9%9F%E5%99%A8%E4%BA%BA.ipynb\" target=\"_parent\"><img src=\"https://colab.research.google.com/assets/colab-badge.svg\" alt=\"Open In Colab\"/></a>"
      ]
    },
    {
      "cell_type": "code",
      "metadata": {
        "colab": {
          "base_uri": "https://localhost:8080/"
        },
        "id": "DPr1T0IU6jqU",
        "outputId": "81d0ba67-f5f9-4fd3-cf35-1211086c46cc"
      },
      "source": [
        "In [1]: ## 1.聊天機器人自我介紹\n",
        "print(\"哈囉!很高興你加我為好友!我是防疫機器人 疫疫\")\n",
        "name = input(\"你叫什麼名字呢?\")\n",
        "print(\"你好\",name) \n",
        "\n",
        "    "
      ],
      "execution_count": null,
      "outputs": [
        {
          "output_type": "stream",
          "text": [
            "哈囉!很高興你加我為好友!我是防疫機器人 疫疫\n",
            "你叫什麼名字呢?Amy\n",
            "你好 Amy\n"
          ],
          "name": "stdout"
        }
      ]
    },
    {
      "cell_type": "code",
      "metadata": {
        "colab": {
          "base_uri": "https://localhost:8080/"
        },
        "id": "dDSkVMG4At40",
        "outputId": "ce321ce9-d77a-4748-8331-d5adf4c5136d"
      },
      "source": [
        "In [2]: ## 2.住家資訊\n",
        "print(\"我住在高雄。\")\n",
        "city = input(\"你呢?你住在哪個縣市?\")\n",
        "print(\"原來是住在\"+city)\n",
        "if city == \"台北\" or city == \"台北市\" or city == \"臺北\" or city == \"臺北市\" :\n",
        "  yes = input(\"你住在台北的萬華區嗎?請回答是或不是\")\n",
        "  if yes == \"是\" :\n",
        "    print(\"那你要盡量待在家，沒事不要出門。截至*月*日為止，萬華區累積*例新冠肺炎確診。\")\n",
        "  if yes == \"不是\" :\n",
        "    print(\"雖然你不在台北市確診數最高的地區，但是千萬別掉以輕心，截至*月*日為止，台北市累積*例新冠肺炎確診，還是千萬要小心！\")\n",
        "if city == \"新北\" or city == \"新北市\" :\n",
        "  yes = input(\"你住在新北的板橋區嗎?請回答是或不是\")\n",
        "  if yes == \"是\" :\n",
        "    print(\"那你要盡量待在家，沒事不要出門。截至*月*日為止，板橋區累積*例新冠肺炎確診。\")\n",
        "  if yes == \"不是\" :\n",
        "    print(\"雖然你不在新北市確診數最高的地區，但是千萬別掉以輕心，截至*月*日為止，新北市累積*例新冠肺炎確診，還是千萬要小心！\")\n",
        "if city != \"台北\" or city != \"台北市\" or city != \"臺北\" or city != \"臺北市\" or city != \"新北\" or city != \"新北市\" :\n",
        "  print(\"雖然你不是在雙北高度警戒範圍，但全台都是三級警戒，還是要注意非必要不要外出喔!\")"
      ],
      "execution_count": null,
      "outputs": [
        {
          "output_type": "stream",
          "text": [
            "我住在高雄。\n",
            "你呢?你住在哪個縣市?彰化\n",
            "原來是住在彰化\n",
            "雖然你不是在雙北高度警戒範圍，但全台都是三級警戒，還是要注意非必要不要外出喔!\n"
          ],
          "name": "stdout"
        }
      ]
    },
    {
      "cell_type": "code",
      "metadata": {
        "colab": {
          "base_uri": "https://localhost:8080/"
        },
        "id": "G2FABReZsq9E",
        "outputId": "36c04198-ac99-47d1-af15-106b7a693132"
      },
      "source": [
        "In [3]: ## 3.疫苗問題\n",
        "vaccine = input(\"你有接種過新冠肺炎的疫苗嗎?請回答有或沒有\")\n",
        "if vaccine == \"有\" :\n",
        "  print(\"太棒了！你真是防疫小尖兵!\")\n",
        "if vaccine == \"沒有\" :\n",
        "  print(\"也許你可以查詢相關訊息!目前接踵疫苗以醫護為優先,尤其是雙北地區,未曾接種第一劑疫苗之醫事、防疫人員及高接觸風險者優先機種。接種疫苗可透過健保快易通App、超商、藥局等進行預約。除了診所醫院,也設接種站和外展服務。\")\n",
        "\n",
        "\n"
      ],
      "execution_count": null,
      "outputs": [
        {
          "output_type": "stream",
          "text": [
            "你有接種過新冠肺炎的疫苗嗎?請回答有或沒有沒有\n",
            "也許你可以查詢相關訊息!目前接踵疫苗以醫護為優先,尤其是雙北地區,未曾接種第一劑疫苗之醫事、防疫人員及高接觸風險者優先機種。接種疫苗可透過健保快易通App、超商、藥局等進行預約。除了診所醫院,也設接種站和外展服務。\n"
          ],
          "name": "stdout"
        }
      ]
    },
    {
      "cell_type": "code",
      "metadata": {
        "colab": {
          "base_uri": "https://localhost:8080/"
        },
        "id": "cXGB3d5BwTwy",
        "outputId": "b893819e-f395-4ab5-ffb4-95b37f0a0bbd"
      },
      "source": [
        "In [4]: ## 4.自我檢測\n",
        "print(\"那我們來做個新冠肺炎的小檢測!可以初步自我檢查!以下的8個問題,請回答有或沒有\")\n",
        "result = 0\n",
        "test = input(\"你有發燒、咳嗽的症狀嗎？\")\n",
        "if test == \"有\" :\n",
        "  result = result+1\n",
        "test = input(\"你最近覺得噁心或想嘔吐嗎？\")\n",
        "if test == \"有\" :\n",
        "  result = result+1\n",
        "test = input(\"你最近有腹瀉或腹痛嗎？\")\n",
        "if test == \"有\" :\n",
        "  result = result+1\n",
        "  test = input(\"你曾經覺得噁心或想嘔吐嗎？\")\n",
        "if test == \"有\" :\n",
        "  result = result+1\n",
        "test = input(\"平常你會有呼吸急促或困難嗎？\")\n",
        "if test == \"有\" :\n",
        "  result = result+1\n",
        "test = input(\"你最近有去過確診者足跡經過的地方嗎？\")\n",
        "if test == \"有\" :\n",
        "  result = result+1\n",
        "test = input(\"你在過去14天以內由國外入境台灣？\")\n",
        "if test == \"有\" :\n",
        "  result = result+1\n",
        "print(\"你符合了檢測的\",result,\"個狀況\")\n",
        "if result == 0 :\n",
        "  print(\"你目前沒有任何症狀!但還是要多多注意身體，出外也要隨時戴口罩、準備酒精!保持社交距離。\")\n",
        "if result == 1 :\n",
        "  print(\"一個狀況也是相當危險喔!建議你撥打1922諮詢。\")\n",
        "if result >= 2 :\n",
        "  print(\"請盡速撥打1922諮詢!千萬不要到處亂跑也不要自行前往就醫。撥打專線後在家等待。\")\n"
      ],
      "execution_count": null,
      "outputs": [
        {
          "output_type": "stream",
          "text": [
            "那我們來做個新冠肺炎的小檢測!可以初步自我檢查!以下的8個問題,請回答有或沒有\n",
            "你有發燒、咳嗽的症狀嗎？有\n",
            "你最近覺得噁心或想嘔吐嗎？沒有\n",
            "你最近有腹瀉或腹痛嗎？有\n",
            "你曾經覺得噁心或想嘔吐嗎？沒有\n",
            "平常你會有呼吸急促或困難嗎？沒有\n",
            "你最近有去過確診者足跡經過的地方嗎？沒有\n",
            "你在過去14天以內由國外入境台灣？沒有\n",
            "你符合了檢測的 2 個狀況\n",
            "請盡速撥打1922諮詢!千萬不要到處亂跑也不要自行前往就醫。撥打專線後在家等待。\n"
          ],
          "name": "stdout"
        }
      ]
    },
    {
      "cell_type": "code",
      "metadata": {
        "id": "U3i43dsR5u4N"
      },
      "source": [
        "In [5]: ## 5."
      ],
      "execution_count": null,
      "outputs": []
    }
  ]
}
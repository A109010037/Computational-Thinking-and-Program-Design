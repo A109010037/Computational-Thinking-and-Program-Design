{
  "nbformat": 4,
  "nbformat_minor": 0,
  "metadata": {
    "colab": {
      "name": "張愛芸-week4-練習作業.ipynb",
      "provenance": [],
      "authorship_tag": "ABX9TyMRFDy9TVrOXWaAN4+8hZkI",
      "include_colab_link": true
    },
    "kernelspec": {
      "name": "python3",
      "display_name": "Python 3"
    }
  },
  "cells": [
    {
      "cell_type": "markdown",
      "metadata": {
        "id": "view-in-github",
        "colab_type": "text"
      },
      "source": [
        "<a href=\"https://colab.research.google.com/github/A109010037/Computational-Thinking-and-Program-Design/blob/main/%E5%BC%B5%E6%84%9B%E8%8A%B8_week4_%E7%B7%B4%E7%BF%92%E4%BD%9C%E6%A5%AD.ipynb\" target=\"_parent\"><img src=\"https://colab.research.google.com/assets/colab-badge.svg\" alt=\"Open In Colab\"/></a>"
      ]
    },
    {
      "cell_type": "code",
      "metadata": {
        "id": "ifJADgUcXbQh"
      },
      "source": [
        ""
      ],
      "execution_count": null,
      "outputs": []
    },
    {
      "cell_type": "markdown",
      "metadata": {
        "id": "nnuJ7kQAYuKh"
      },
      "source": [
        "#隨堂練習"
      ]
    },
    {
      "cell_type": "markdown",
      "metadata": {
        "id": "Zzc58xvdZBvR"
      },
      "source": [
        "#課後練習"
      ]
    },
    {
      "cell_type": "markdown",
      "metadata": {
        "id": "Exm1qaD8Xx_S"
      },
      "source": [
        "**提出你對新聞系學生為什麼要學「運算思維與程式設計」的見解。**\n",
        "現今是一個大數據的時代，程式設計遍布生活中，目前社會期許能有技術專長的人才，雖然身為新聞系的我們，不需要專精於程式設計，但未來資訊科技的需求只會越來越多、越來越深，因此我認為有需要學習一些基礎，也應該對其有些程度上的了解，才能因應時代的需求與演進。\n",
        "《P#》實習生表示，一年的實習過程，除了學習採訪、寫作，也透過程式能力賴解決許多問題。\n",
        "例如：新聞製作過程中的資料搜集、分析，到行銷企劃相關的流量追蹤，或是幫忙網頁套版或串選舉票數API等支援工程師的任務。(https://reurl.cc/4ylRRV)\n",
        "再者，我認為資訊科技相關產業是目前相當熱門的產業，雖然我們無法跟相關科系畢業的人相比，但多學一點也沒有損失，反而有助於提升自己的能力。\n",
        "另外，北科大研究發現，修過程式語言的畢業生起薪，比沒修過的還要高3000~5000元。(https://reurl.cc/xgWDd4)"
      ]
    }
  ]
}
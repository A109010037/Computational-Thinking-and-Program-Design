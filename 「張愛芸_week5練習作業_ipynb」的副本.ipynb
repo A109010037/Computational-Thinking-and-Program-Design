{
  "nbformat": 4,
  "nbformat_minor": 0,
  "metadata": {
    "colab": {
      "name": "「張愛芸-week5練習作業-.ipynb」的副本",
      "provenance": [],
      "authorship_tag": "ABX9TyOfK+u4PgMD9jRA7NzP3Lfy",
      "include_colab_link": true
    },
    "kernelspec": {
      "name": "python3",
      "display_name": "Python 3"
    },
    "language_info": {
      "name": "python"
    }
  },
  "cells": [
    {
      "cell_type": "markdown",
      "metadata": {
        "id": "view-in-github",
        "colab_type": "text"
      },
      "source": [
        "<a href=\"https://colab.research.google.com/github/A109010037/Computational-Thinking-and-Program-Design/blob/main/%E3%80%8C%E5%BC%B5%E6%84%9B%E8%8A%B8_week5%E7%B7%B4%E7%BF%92%E4%BD%9C%E6%A5%AD_ipynb%E3%80%8D%E7%9A%84%E5%89%AF%E6%9C%AC.ipynb\" target=\"_parent\"><img src=\"https://colab.research.google.com/assets/colab-badge.svg\" alt=\"Open In Colab\"/></a>"
      ]
    },
    {
      "cell_type": "code",
      "metadata": {
        "id": "jpFgEspoahXX"
      },
      "source": [
        ""
      ],
      "execution_count": null,
      "outputs": []
    },
    {
      "cell_type": "markdown",
      "metadata": {
        "id": "KIGU84F5uDBR"
      },
      "source": [
        "## 練習一"
      ]
    },
    {
      "cell_type": "code",
      "metadata": {
        "colab": {
          "base_uri": "https://localhost:8080/"
        },
        "id": "9cQgPptfjMK9",
        "outputId": "a4ac74df-d062-4d63-bc79-9a6fbf637e1d"
      },
      "source": [
        "s=\"My name is aiyun Chang\"\n",
        "\n",
        "print(s)"
      ],
      "execution_count": null,
      "outputs": [
        {
          "output_type": "stream",
          "text": [
            "My name is aiyun Chang\n"
          ],
          "name": "stdout"
        }
      ]
    },
    {
      "cell_type": "code",
      "metadata": {
        "colab": {
          "base_uri": "https://localhost:8080/"
        },
        "id": "1MzcblF4uA0b",
        "outputId": "a5e0d5a6-6936-493a-8668-0ed28c23d3fe"
      },
      "source": [
        "s=\"I am 19 years old\"\n",
        "\n",
        "print(s)"
      ],
      "execution_count": null,
      "outputs": [
        {
          "output_type": "stream",
          "text": [
            "I am 19 years old\n"
          ],
          "name": "stdout"
        }
      ]
    },
    {
      "cell_type": "code",
      "metadata": {
        "colab": {
          "base_uri": "https://localhost:8080/"
        },
        "id": "o-NiFmbQucfM",
        "outputId": "1a4dab43-897f-4755-be4d-16368c9a76a8"
      },
      "source": [
        "s=\"我喜歡攝影\"\n",
        "\n",
        "print(s)"
      ],
      "execution_count": null,
      "outputs": [
        {
          "output_type": "stream",
          "text": [
            "我喜歡攝影\n"
          ],
          "name": "stdout"
        }
      ]
    },
    {
      "cell_type": "code",
      "metadata": {
        "colab": {
          "base_uri": "https://localhost:8080/"
        },
        "id": "CwEDSM1yuoqH",
        "outputId": "47cb666f-2635-4cbf-de8c-fc9823b2bc5d"
      },
      "source": [
        "s=\"我有一個弟弟\"\n",
        "\n",
        "print(s)"
      ],
      "execution_count": null,
      "outputs": [
        {
          "output_type": "stream",
          "text": [
            "我有一個弟弟\n"
          ],
          "name": "stdout"
        }
      ]
    },
    {
      "cell_type": "markdown",
      "metadata": {
        "id": "YrEbDks8u0sR"
      },
      "source": [
        "# 練習二"
      ]
    },
    {
      "cell_type": "code",
      "metadata": {
        "colab": {
          "base_uri": "https://localhost:8080/"
        },
        "id": "UIBsrZK0u58f",
        "outputId": "9606404a-33c2-4829-f16a-5ebcb4c65972"
      },
      "source": [
        "s=\"人生沒有白走的路，即使不喜歡，只要好好走，也不會白費。\"\n",
        "\n",
        "print(s)"
      ],
      "execution_count": null,
      "outputs": [
        {
          "output_type": "stream",
          "text": [
            "人生沒有白走的路，即使不喜歡，只要好好走，也不會白費。\n"
          ],
          "name": "stdout"
        }
      ]
    },
    {
      "cell_type": "code",
      "metadata": {
        "colab": {
          "base_uri": "https://localhost:8080/"
        },
        "id": "Vaz61uI5vg_U",
        "outputId": "b3cb08ef-b08d-4b3b-ea41-530eeda8fd1e"
      },
      "source": [
        "s=\"比成功更重要的是，做你自己有興趣、有能力，也肯努力去做的事。\"\n",
        "\n",
        "print(s)"
      ],
      "execution_count": null,
      "outputs": [
        {
          "output_type": "stream",
          "text": [
            "比成功更重要的是，做你自己有興趣、有能力，也肯努力去做的事。\n"
          ],
          "name": "stdout"
        }
      ]
    },
    {
      "cell_type": "code",
      "metadata": {
        "colab": {
          "base_uri": "https://localhost:8080/"
        },
        "id": "FpxCSHaevw1g",
        "outputId": "8306f4a8-4776-48b7-c5ef-db79e98776da"
      },
      "source": [
        "s=\"少壯不努力，老大徒傷悲。\"\n",
        "\n",
        "print(s)"
      ],
      "execution_count": null,
      "outputs": [
        {
          "output_type": "stream",
          "text": [
            "少壯不努力，老大徒傷悲。\n"
          ],
          "name": "stdout"
        }
      ]
    },
    {
      "cell_type": "code",
      "metadata": {
        "colab": {
          "base_uri": "https://localhost:8080/"
        },
        "id": "l9cLSnYfv8KK",
        "outputId": "19d7157d-921c-43f0-f2eb-0d22b9f75cb9"
      },
      "source": [
        "s=\" 成功不是將來才有的，而是從決定去做的那一刻起，持續累積而成。\"\n",
        "\n",
        "print(s)"
      ],
      "execution_count": null,
      "outputs": [
        {
          "output_type": "stream",
          "text": [
            " 成功不是將來才有的，而是從決定去做的那一刻起，持續累積而成。\n"
          ],
          "name": "stdout"
        }
      ]
    }
  ]
}
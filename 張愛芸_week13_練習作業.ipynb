{
  "nbformat": 4,
  "nbformat_minor": 0,
  "metadata": {
    "colab": {
      "name": "張愛芸-week13-練習作業.ipynb",
      "provenance": [],
      "include_colab_link": true
    },
    "kernelspec": {
      "name": "python3",
      "display_name": "Python 3"
    },
    "language_info": {
      "name": "python"
    }
  },
  "cells": [
    {
      "cell_type": "markdown",
      "metadata": {
        "id": "view-in-github",
        "colab_type": "text"
      },
      "source": [
        "<a href=\"https://colab.research.google.com/github/A109010037/Computational-Thinking-and-Program-Design/blob/main/%E5%BC%B5%E6%84%9B%E8%8A%B8_week13_%E7%B7%B4%E7%BF%92%E4%BD%9C%E6%A5%AD.ipynb\" target=\"_parent\"><img src=\"https://colab.research.google.com/assets/colab-badge.svg\" alt=\"Open In Colab\"/></a>"
      ]
    },
    {
      "cell_type": "markdown",
      "metadata": {
        "id": "Oq01y-iWEUdI"
      },
      "source": [
        "##隨堂練習1:滿2000打九折\n",
        "請寫一個程式幫助店家計算顧客所需付出的金額。\n",
        "採買物品時，有時會遇到店家為了刺激消費，會使用滿額折扣。例如，滿2000打九折，未滿2000則不打折。"
      ]
    },
    {
      "cell_type": "code",
      "metadata": {
        "colab": {
          "base_uri": "https://localhost:8080/"
        },
        "id": "w1GKnJI6FTw1",
        "outputId": "369d702c-f533-445b-c00f-4ac8500b6612"
      },
      "source": [
        "cost=int(input(\"請輸入購買金額\"))\n",
        "if cost>=2000:\n",
        "  print(\"可打九折\",cost*0.9)\n",
        "else:\n",
        "    print(\"不打折\")"
      ],
      "execution_count": null,
      "outputs": [
        {
          "output_type": "stream",
          "text": [
            "請輸入購買金額2500\n",
            "可打九折 2250.0\n"
          ],
          "name": "stdout"
        }
      ]
    },
    {
      "cell_type": "code",
      "metadata": {
        "id": "Kc4f4gyjF8Ak"
      },
      "source": [
        ""
      ],
      "execution_count": null,
      "outputs": []
    }
  ]
}